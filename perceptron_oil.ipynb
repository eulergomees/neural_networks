{
 "cells": [
  {
   "metadata": {},
   "cell_type": "markdown",
   "source": [
    "# Atividade: Perceptron para classificação de petroleo\n",
    "**INSTITUTO FEDERAL DE MINAS GERIAS**\n",
    "*Departamento de Engenharia e Computação*\n",
    "\n",
    "**Professor:** Ciniro Nametala\n",
    "\n",
    "**Aluno:** Euler Gomes\n"
   ],
   "id": "305393bd4b8d7c9b"
  },
  {
   "metadata": {},
   "cell_type": "code",
   "outputs": [],
   "execution_count": null,
   "source": "",
   "id": "dd8021f7e1be3555"
  }
 ],
 "metadata": {
  "kernelspec": {
   "display_name": "Python 3",
   "language": "python",
   "name": "python3"
  },
  "language_info": {
   "codemirror_mode": {
    "name": "ipython",
    "version": 2
   },
   "file_extension": ".py",
   "mimetype": "text/x-python",
   "name": "python",
   "nbconvert_exporter": "python",
   "pygments_lexer": "ipython2",
   "version": "2.7.6"
  }
 },
 "nbformat": 4,
 "nbformat_minor": 5
}
