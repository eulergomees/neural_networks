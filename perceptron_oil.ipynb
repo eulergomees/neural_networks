{
 "cells": [
  {
   "metadata": {},
   "cell_type": "markdown",
   "source": [
    "# Atividade: Perceptron para classificação de petroleo\n",
    "**INSTITUTO FEDERAL DE MINAS GERIAS**\n",
    "*Departamento de Engenharia e Computação*\n",
    "\n",
    "**Professor:** Ciniro Nametala\n",
    "\n",
    "**Aluno:** Euler Gomes\n"
   ],
   "id": "305393bd4b8d7c9b"
  },
  {
   "metadata": {
    "ExecuteTime": {
     "end_time": "2025-10-14T10:45:36.949489Z",
     "start_time": "2025-10-14T10:45:36.938699Z"
    }
   },
   "cell_type": "code",
   "source": [
    "#importando bibliotecas\n",
    "import pandas as pd\n",
    "import numpy as np\n",
    "import seaborn as sns\n",
    "import pygwalker as pyg\n",
    "import matplotlib.pyplot as plt\n",
    "from sklearn.metrics import confusion_matrix, classification_report\n",
    "import plotly.graph_objects as go\n"
   ],
   "id": "dd8021f7e1be3555",
   "outputs": [],
   "execution_count": 103
  },
  {
   "metadata": {},
   "cell_type": "markdown",
   "source": "### Funções de ativação",
   "id": "805d888663f7e6c0"
  },
  {
   "metadata": {
    "ExecuteTime": {
     "end_time": "2025-10-14T10:45:36.980655Z",
     "start_time": "2025-10-14T10:45:36.968245Z"
    }
   },
   "cell_type": "code",
   "source": [
    "#funcoes de ativacao\n",
    "#funcao degrau bipolar\n",
    "def degrau_bipolar(x):\n",
    "    if x > 0:\n",
    "        y = 1\n",
    "    elif x < 0:\n",
    "        y = -1\n",
    "    return y"
   ],
   "id": "194264f02e208ee6",
   "outputs": [],
   "execution_count": 104
  },
  {
   "metadata": {},
   "cell_type": "markdown",
   "source": "### Implementação do Perceptron",
   "id": "1e9f4f5adfcd0baf"
  },
  {
   "metadata": {
    "ExecuteTime": {
     "end_time": "2025-10-14T10:45:37.074882Z",
     "start_time": "2025-10-14T10:45:37.041217Z"
    }
   },
   "cell_type": "code",
   "source": [
    "#leitura do dataset de treino\n",
    "data = pd.read_csv('data/dataset_oil_training.csv', sep=';')\n",
    "\n",
    "data.head()"
   ],
   "id": "b9dc8ca63859e0a3",
   "outputs": [
    {
     "data": {
      "text/plain": [
       "   Amostra      x1      x2       x3    d\n",
       "0        1 -0.6508  0.1097   4.0009 -1.0\n",
       "1        2 -1.4492  0.8896   4.4005 -1.0\n",
       "2        3  2.0850  0.6876   7.9845 -1.0\n",
       "3        4  0.2626  1.1476  12.0710 -1.0\n",
       "4        5  0.6418  1.0234   7.7985  1.0"
      ],
      "text/html": [
       "<div>\n",
       "<style scoped>\n",
       "    .dataframe tbody tr th:only-of-type {\n",
       "        vertical-align: middle;\n",
       "    }\n",
       "\n",
       "    .dataframe tbody tr th {\n",
       "        vertical-align: top;\n",
       "    }\n",
       "\n",
       "    .dataframe thead th {\n",
       "        text-align: right;\n",
       "    }\n",
       "</style>\n",
       "<table border=\"1\" class=\"dataframe\">\n",
       "  <thead>\n",
       "    <tr style=\"text-align: right;\">\n",
       "      <th></th>\n",
       "      <th>Amostra</th>\n",
       "      <th>x1</th>\n",
       "      <th>x2</th>\n",
       "      <th>x3</th>\n",
       "      <th>d</th>\n",
       "    </tr>\n",
       "  </thead>\n",
       "  <tbody>\n",
       "    <tr>\n",
       "      <th>0</th>\n",
       "      <td>1</td>\n",
       "      <td>-0.6508</td>\n",
       "      <td>0.1097</td>\n",
       "      <td>4.0009</td>\n",
       "      <td>-1.0</td>\n",
       "    </tr>\n",
       "    <tr>\n",
       "      <th>1</th>\n",
       "      <td>2</td>\n",
       "      <td>-1.4492</td>\n",
       "      <td>0.8896</td>\n",
       "      <td>4.4005</td>\n",
       "      <td>-1.0</td>\n",
       "    </tr>\n",
       "    <tr>\n",
       "      <th>2</th>\n",
       "      <td>3</td>\n",
       "      <td>2.0850</td>\n",
       "      <td>0.6876</td>\n",
       "      <td>7.9845</td>\n",
       "      <td>-1.0</td>\n",
       "    </tr>\n",
       "    <tr>\n",
       "      <th>3</th>\n",
       "      <td>4</td>\n",
       "      <td>0.2626</td>\n",
       "      <td>1.1476</td>\n",
       "      <td>12.0710</td>\n",
       "      <td>-1.0</td>\n",
       "    </tr>\n",
       "    <tr>\n",
       "      <th>4</th>\n",
       "      <td>5</td>\n",
       "      <td>0.6418</td>\n",
       "      <td>1.0234</td>\n",
       "      <td>7.7985</td>\n",
       "      <td>1.0</td>\n",
       "    </tr>\n",
       "  </tbody>\n",
       "</table>\n",
       "</div>"
      ]
     },
     "execution_count": 105,
     "metadata": {},
     "output_type": "execute_result"
    }
   ],
   "execution_count": 105
  },
  {
   "metadata": {
    "ExecuteTime": {
     "end_time": "2025-10-14T10:45:37.200106Z",
     "start_time": "2025-10-14T10:45:37.195812Z"
    }
   },
   "cell_type": "code",
   "source": [
    "#quatidade de elementos na amostra\n",
    "n_amostras = data.shape[0]\n",
    "\n",
    "#quantidade de variaveis de entrada (subtrair a coluna de tipos)\n",
    "n_variaveis = data.shape[1] -1\n",
    "\n",
    "#separando os dados contendo apenas as variaveis de entrada\n",
    "x = data.iloc[:, 1:n_variaveis].values\n",
    "print(x)"
   ],
   "id": "c8ef6e9140a5cfb9",
   "outputs": [
    {
     "name": "stdout",
     "output_type": "stream",
     "text": [
      "[[-0.6508  0.1097  4.0009]\n",
      " [-1.4492  0.8896  4.4005]\n",
      " [ 2.085   0.6876  7.9845]\n",
      " [ 0.2626  1.1476 12.071 ]\n",
      " [ 0.6418  1.0234  7.7985]\n",
      " [ 0.2569  0.673   8.3265]\n",
      " [ 1.1155  0.6043  7.4446]\n",
      " [ 0.0914  0.3399  7.0677]\n",
      " [ 0.0121  0.5256  4.6316]\n",
      " [-0.0429  0.466   5.4323]\n",
      " [ 0.434   0.687   8.2287]\n",
      " [ 0.2735  1.0287  7.1934]\n",
      " [ 0.4839  0.4851  7.485 ]\n",
      " [ 0.4089 -0.1267  5.5019]\n",
      " [ 1.4391  0.1614  8.5843]\n",
      " [-0.9115 -0.1973  2.1962]\n",
      " [ 0.3654  1.0475  7.4858]\n",
      " [ 0.2144  0.7515  7.1699]\n",
      " [ 0.2013  1.0014  6.5489]\n",
      " [ 0.6483  0.2183  5.8991]\n",
      " [-0.1147  0.2242  7.2435]\n",
      " [-0.797   0.8795  3.8762]\n",
      " [-1.0625  0.6366  2.4707]\n",
      " [ 0.5307  0.1285  5.6883]\n",
      " [-1.22    0.7777  1.7252]\n",
      " [ 0.3957  0.1076  5.6623]\n",
      " [-0.1013  0.5989  7.1812]\n",
      " [ 2.4482  0.9455 11.2095]\n",
      " [ 2.0149  0.6192 10.9263]\n",
      " [ 0.2012  0.2611  5.4631]]\n"
     ]
    }
   ],
   "execution_count": 106
  },
  {
   "metadata": {
    "ExecuteTime": {
     "end_time": "2025-10-14T10:45:37.352331Z",
     "start_time": "2025-10-14T10:45:37.344677Z"
    }
   },
   "cell_type": "code",
   "source": [
    "#inserindo o bias\n",
    "bias = np.ones((n_amostras, 1)) * -1\n",
    "\n",
    "#concatenar o bias com o dataset x\n",
    "x = np.hstack((x, bias))\n",
    "print(x)"
   ],
   "id": "3038159857fb79d2",
   "outputs": [
    {
     "name": "stdout",
     "output_type": "stream",
     "text": [
      "[[-0.6508  0.1097  4.0009 -1.    ]\n",
      " [-1.4492  0.8896  4.4005 -1.    ]\n",
      " [ 2.085   0.6876  7.9845 -1.    ]\n",
      " [ 0.2626  1.1476 12.071  -1.    ]\n",
      " [ 0.6418  1.0234  7.7985 -1.    ]\n",
      " [ 0.2569  0.673   8.3265 -1.    ]\n",
      " [ 1.1155  0.6043  7.4446 -1.    ]\n",
      " [ 0.0914  0.3399  7.0677 -1.    ]\n",
      " [ 0.0121  0.5256  4.6316 -1.    ]\n",
      " [-0.0429  0.466   5.4323 -1.    ]\n",
      " [ 0.434   0.687   8.2287 -1.    ]\n",
      " [ 0.2735  1.0287  7.1934 -1.    ]\n",
      " [ 0.4839  0.4851  7.485  -1.    ]\n",
      " [ 0.4089 -0.1267  5.5019 -1.    ]\n",
      " [ 1.4391  0.1614  8.5843 -1.    ]\n",
      " [-0.9115 -0.1973  2.1962 -1.    ]\n",
      " [ 0.3654  1.0475  7.4858 -1.    ]\n",
      " [ 0.2144  0.7515  7.1699 -1.    ]\n",
      " [ 0.2013  1.0014  6.5489 -1.    ]\n",
      " [ 0.6483  0.2183  5.8991 -1.    ]\n",
      " [-0.1147  0.2242  7.2435 -1.    ]\n",
      " [-0.797   0.8795  3.8762 -1.    ]\n",
      " [-1.0625  0.6366  2.4707 -1.    ]\n",
      " [ 0.5307  0.1285  5.6883 -1.    ]\n",
      " [-1.22    0.7777  1.7252 -1.    ]\n",
      " [ 0.3957  0.1076  5.6623 -1.    ]\n",
      " [-0.1013  0.5989  7.1812 -1.    ]\n",
      " [ 2.4482  0.9455 11.2095 -1.    ]\n",
      " [ 2.0149  0.6192 10.9263 -1.    ]\n",
      " [ 0.2012  0.2611  5.4631 -1.    ]]\n"
     ]
    }
   ],
   "execution_count": 107
  },
  {
   "metadata": {
    "ExecuteTime": {
     "end_time": "2025-10-14T10:45:37.456036Z",
     "start_time": "2025-10-14T10:45:37.447588Z"
    }
   },
   "cell_type": "code",
   "source": [
    "#associar cada entrada xi com cada saída y\n",
    "y = data.iloc[:, n_variaveis].values\n",
    "print(y)\n",
    "\n",
    "#contar quantas amostras de cada classe existem no dataset\n",
    "print(f\"-1: {(y == -1).sum()}\")\n",
    "print(f\"1: {(y == 1).sum()}\")"
   ],
   "id": "db18b0bfef7e293",
   "outputs": [
    {
     "name": "stdout",
     "output_type": "stream",
     "text": [
      "[-1. -1. -1. -1.  1.  1. -1.  1. -1.  1. -1. -1. -1. -1. -1. -1.  1.  1.\n",
      "  1.  1. -1.  1.  1.  1.  1. -1. -1.  1. -1.  1.]\n",
      "-1: 16\n",
      "1: 14\n"
     ]
    }
   ],
   "execution_count": 108
  },
  {
   "metadata": {},
   "cell_type": "markdown",
   "source": "## Inicialização do perceptron",
   "id": "aa9a06c3d3cfa37e"
  },
  {
   "metadata": {
    "ExecuteTime": {
     "end_time": "2025-10-14T10:45:37.506788Z",
     "start_time": "2025-10-14T10:45:37.499906Z"
    }
   },
   "cell_type": "code",
   "source": [
    "#inicializar o vetor de pesos W com valores aleatorios\n",
    "w = np.random.uniform(-1,1, n_variaveis)\n",
    "print(w)"
   ],
   "id": "b37a553366cde3b5",
   "outputs": [
    {
     "name": "stdout",
     "output_type": "stream",
     "text": [
      "[-0.42993895  0.2244435   0.31163973 -0.98224845]\n"
     ]
    }
   ],
   "execution_count": 109
  },
  {
   "metadata": {
    "ExecuteTime": {
     "end_time": "2025-10-14T10:45:37.563012Z",
     "start_time": "2025-10-14T10:45:37.558668Z"
    }
   },
   "cell_type": "code",
   "source": [
    "#taxa de aprendizagem\n",
    "eta = 0.01\n",
    "\n",
    "#tolerancia\n",
    "tolerancia = 0.01\n",
    "\n",
    "#erro medio\n",
    "erro_medio = tolerancia + 1\n",
    "\n",
    "#vetor de erro medio por epoca\n",
    "erros_epocas = []\n",
    "\n",
    "#contador de epocas\n",
    "epoca = 0\n",
    "\n",
    "#maximo de epocas para treino\n",
    "max_epoca = 500"
   ],
   "id": "b19f5432b5143476",
   "outputs": [],
   "execution_count": 110
  },
  {
   "metadata": {
    "ExecuteTime": {
     "end_time": "2025-10-14T10:45:37.719131Z",
     "start_time": "2025-10-14T10:45:37.613291Z"
    }
   },
   "cell_type": "code",
   "source": [
    "#criterios de parada\n",
    "criterio_erro = True\n",
    "criterio_epocas = True\n",
    "\n",
    "while criterio_erro == True and criterio_epocas == True:\n",
    "    erro_atual = 0\n",
    "    epoca = epoca + 1\n",
    "\n",
    "    #embaralhar os indices\n",
    "    ind_embaralhados = np.random.permutation(n_amostras)\n",
    "\n",
    "    for i in range(n_amostras):\n",
    "        indice_amostra = ind_embaralhados[i]\n",
    "        xi_amostra = x[indice_amostra, :]\n",
    "\n",
    "        #potencial e ativacao\n",
    "        u = np.dot(w.T, xi_amostra)\n",
    "\n",
    "        yhat = degrau_bipolar(u)\n",
    "\n",
    "        e = y[indice_amostra] - yhat\n",
    "\n",
    "        w = w + (eta * e) * xi_amostra\n",
    "\n",
    "        erro_atual = erro_atual + np.abs(e)\n",
    "\n",
    "    erro_medio = erro_atual / n_amostras\n",
    "    erros_epocas.append(erro_medio)\n",
    "\n",
    "    if erro_medio < tolerancia:\n",
    "            criterio_erro = False\n",
    "    if epoca > max_epoca:\n",
    "            criterio_epocas = False\n"
   ],
   "id": "c7cb33e7cf2d1171",
   "outputs": [],
   "execution_count": 111
  }
 ],
 "metadata": {
  "kernelspec": {
   "display_name": "Python 3",
   "language": "python",
   "name": "python3"
  },
  "language_info": {
   "codemirror_mode": {
    "name": "ipython",
    "version": 2
   },
   "file_extension": ".py",
   "mimetype": "text/x-python",
   "name": "python",
   "nbconvert_exporter": "python",
   "pygments_lexer": "ipython2",
   "version": "2.7.6"
  }
 },
 "nbformat": 4,
 "nbformat_minor": 5
}
