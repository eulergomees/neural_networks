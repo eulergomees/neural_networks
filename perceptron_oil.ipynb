{
 "cells": [
  {
   "metadata": {},
   "cell_type": "markdown",
   "source": [
    "# Atividade: Perceptron para classificação de petroleo\n",
    "**INSTITUTO FEDERAL DE MINAS GERIAS**\n",
    "*Departamento de Engenharia e Computação*\n",
    "\n",
    "**Professor:** Ciniro Nametala\n",
    "\n",
    "**Aluno:** Euler Gomes\n"
   ],
   "id": "305393bd4b8d7c9b"
  },
  {
   "metadata": {
    "ExecuteTime": {
     "end_time": "2025-10-03T14:47:32.686790Z",
     "start_time": "2025-10-03T14:47:32.059101Z"
    }
   },
   "cell_type": "code",
   "source": [
    "#importando bibliotecas\n",
    "import pandas as pd\n",
    "import numpy as np\n",
    "import seaborn as sns\n",
    "import pygwalker as pyg\n",
    "import matplotlib.pyplot as plt\n",
    "from sklearn.metrics import confusion_matrix, classification_report\n",
    "import plotly.graph_objects as go"
   ],
   "id": "dd8021f7e1be3555",
   "outputs": [],
   "execution_count": 1
  },
  {
   "metadata": {},
   "cell_type": "markdown",
   "source": "### Funções de ativação",
   "id": "805d888663f7e6c0"
  },
  {
   "metadata": {
    "ExecuteTime": {
     "end_time": "2025-10-03T14:47:32.696541Z",
     "start_time": "2025-10-03T14:47:32.694758Z"
    }
   },
   "cell_type": "code",
   "source": "#funcoes de ativacao",
   "id": "194264f02e208ee6",
   "outputs": [],
   "execution_count": 2
  },
  {
   "metadata": {},
   "cell_type": "markdown",
   "source": "### Implementação do Perceptron",
   "id": "1e9f4f5adfcd0baf"
  },
  {
   "metadata": {
    "ExecuteTime": {
     "end_time": "2025-10-03T14:47:32.743549Z",
     "start_time": "2025-10-03T14:47:32.740073Z"
    }
   },
   "cell_type": "code",
   "source": [
    "#leitura do dataset de treino\n",
    "data = pd.read_csv('data/dataset_oil_training.csv', sep=';')"
   ],
   "id": "b9dc8ca63859e0a3",
   "outputs": [],
   "execution_count": 3
  }
 ],
 "metadata": {
  "kernelspec": {
   "display_name": "Python 3",
   "language": "python",
   "name": "python3"
  },
  "language_info": {
   "codemirror_mode": {
    "name": "ipython",
    "version": 2
   },
   "file_extension": ".py",
   "mimetype": "text/x-python",
   "name": "python",
   "nbconvert_exporter": "python",
   "pygments_lexer": "ipython2",
   "version": "2.7.6"
  }
 },
 "nbformat": 4,
 "nbformat_minor": 5
}
