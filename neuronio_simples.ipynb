{
 "cells": [
  {
   "metadata": {},
   "cell_type": "markdown",
   "source": [
    "# Atividade: Neurônio Artificial\n",
    "**INSTITUTO FEDERAL DE MINAS GERIAS**\n",
    "*Departamento de Engenharia e Computação*\n",
    "\n",
    "**Professor:** Ciniro Nametala\n",
    "\n",
    "**Aluno:** Euler Gomes\n"
   ],
   "id": "4e3969c050041da9"
  },
  {
   "metadata": {
    "ExecuteTime": {
     "end_time": "2025-09-19T14:46:05.376063Z",
     "start_time": "2025-09-19T14:46:04.626777Z"
    }
   },
   "cell_type": "code",
   "source": [
    "#importação das bibliotecas\n",
    "import matplotlib.pyplot as plt\n",
    "import numpy as np\n",
    "import pandas as pd\n",
    "import random"
   ],
   "id": "129de75cfc310b40",
   "outputs": [],
   "execution_count": 1
  },
  {
   "metadata": {},
   "cell_type": "markdown",
   "source": "### Exercício 1: Neurônio",
   "id": "637dc770e211103d"
  },
  {
   "metadata": {
    "ExecuteTime": {
     "end_time": "2025-09-19T14:46:05.415028Z",
     "start_time": "2025-09-19T14:46:05.410058Z"
    }
   },
   "cell_type": "code",
   "source": [
    "#função neurônio\n",
    "def neuronio(x1,x2, w0, w1, w2, bias):\n",
    "    u = x1*w1 + x2*w2 + bias*w0\n",
    "    if u < 0: #função degrau\n",
    "        return 0\n",
    "    else:\n",
    "        return 1"
   ],
   "id": "fd59d862cb37feff",
   "outputs": [],
   "execution_count": 2
  },
  {
   "metadata": {
    "ExecuteTime": {
     "end_time": "2025-09-19T14:46:05.519658Z",
     "start_time": "2025-09-19T14:46:05.489515Z"
    }
   },
   "cell_type": "code",
   "source": [
    "#leitura de dados\n",
    "dados = pd.read_csv('amostrabivariada.csv', sep=';', decimal=',')\n",
    "\n",
    "#convertendo para float se necessario\n",
    "dados['x'] = pd.to_numeric(dados['x'], errors='coerce')\n",
    "dados['y'] = pd.to_numeric(dados['y'], errors='coerce')\n",
    "\n",
    "dados.head() #primeiras 5 linhas do dataset"
   ],
   "id": "d589d0a42b206e62",
   "outputs": [
    {
     "data": {
      "text/plain": [
       "          x         y\n",
       "0  1.183988  1.832880\n",
       "1  1.523565  2.293337\n",
       "2  2.199241  2.342880\n",
       "3  2.768052  2.179136\n",
       "4  2.165374  1.888445"
      ],
      "text/html": [
       "<div>\n",
       "<style scoped>\n",
       "    .dataframe tbody tr th:only-of-type {\n",
       "        vertical-align: middle;\n",
       "    }\n",
       "\n",
       "    .dataframe tbody tr th {\n",
       "        vertical-align: top;\n",
       "    }\n",
       "\n",
       "    .dataframe thead th {\n",
       "        text-align: right;\n",
       "    }\n",
       "</style>\n",
       "<table border=\"1\" class=\"dataframe\">\n",
       "  <thead>\n",
       "    <tr style=\"text-align: right;\">\n",
       "      <th></th>\n",
       "      <th>x</th>\n",
       "      <th>y</th>\n",
       "    </tr>\n",
       "  </thead>\n",
       "  <tbody>\n",
       "    <tr>\n",
       "      <th>0</th>\n",
       "      <td>1.183988</td>\n",
       "      <td>1.832880</td>\n",
       "    </tr>\n",
       "    <tr>\n",
       "      <th>1</th>\n",
       "      <td>1.523565</td>\n",
       "      <td>2.293337</td>\n",
       "    </tr>\n",
       "    <tr>\n",
       "      <th>2</th>\n",
       "      <td>2.199241</td>\n",
       "      <td>2.342880</td>\n",
       "    </tr>\n",
       "    <tr>\n",
       "      <th>3</th>\n",
       "      <td>2.768052</td>\n",
       "      <td>2.179136</td>\n",
       "    </tr>\n",
       "    <tr>\n",
       "      <th>4</th>\n",
       "      <td>2.165374</td>\n",
       "      <td>1.888445</td>\n",
       "    </tr>\n",
       "  </tbody>\n",
       "</table>\n",
       "</div>"
      ]
     },
     "execution_count": 3,
     "metadata": {},
     "output_type": "execute_result"
    }
   ],
   "execution_count": 3
  },
  {
   "metadata": {
    "ExecuteTime": {
     "end_time": "2025-09-19T14:46:05.760832Z",
     "start_time": "2025-09-19T14:46:05.677729Z"
    }
   },
   "cell_type": "code",
   "source": [
    "#criando o grafico de dispersão\n",
    "plt.figure(figsize=(4,4))\n",
    "plt.scatter(dados['x'], dados['y'], c='black', s=10)\n",
    "plt.xlim(0,6)\n",
    "plt.ylim(0,6)\n",
    "plt.xlabel('x')\n",
    "plt.ylabel('y')\n",
    "plt.grid(True, alpha=.3)\n",
    "plt.show()"
   ],
   "id": "9475f0318cbc03d4",
   "outputs": [
    {
     "data": {
      "text/plain": [
       "<Figure size 400x400 with 1 Axes>"
      ],
      "image/png": "[encoded data removed]"
     },
     "metadata": {},
     "output_type": "display_data",
     "jetTransient": {
      "display_id": null
     }
    }
   ],
   "execution_count": 4
  },
  {
   "metadata": {
    "ExecuteTime": {
     "end_time": "2025-09-19T14:46:05.974317Z",
     "start_time": "2025-09-19T14:46:05.966395Z"
    }
   },
   "cell_type": "code",
   "source": [
    "#instanciacao dos pesos e do bias\n",
    "w0 = -6\n",
    "w1 = -1\n",
    "w2 = -1\n",
    "bias = -1\n",
    "\n",
    "#aplicando a funcao neuronio\n",
    "classificacoes = []\n",
    "for i, linha in dados.iterrows():\n",
    "    classe = neuronio(linha['x'], linha['y'],w0,w1,w2, bias)\n",
    "    classificacoes.append(classe)\n",
    "\n",
    "#adicionando as classificacoes ao dataframe\n",
    "dados['classe'] = classificacoes\n",
    "dados.head()"
   ],
   "id": "bb8ccdae08e76b64",
   "outputs": [
    {
     "data": {
      "text/plain": [
       "          x         y  classe\n",
       "0  1.183988  1.832880       1\n",
       "1  1.523565  2.293337       1\n",
       "2  2.199241  2.342880       1\n",
       "3  2.768052  2.179136       1\n",
       "4  2.165374  1.888445       1"
      ],
      "text/html": [
       "<div>\n",
       "<style scoped>\n",
       "    .dataframe tbody tr th:only-of-type {\n",
       "        vertical-align: middle;\n",
       "    }\n",
       "\n",
       "    .dataframe tbody tr th {\n",
       "        vertical-align: top;\n",
       "    }\n",
       "\n",
       "    .dataframe thead th {\n",
       "        text-align: right;\n",
       "    }\n",
       "</style>\n",
       "<table border=\"1\" class=\"dataframe\">\n",
       "  <thead>\n",
       "    <tr style=\"text-align: right;\">\n",
       "      <th></th>\n",
       "      <th>x</th>\n",
       "      <th>y</th>\n",
       "      <th>classe</th>\n",
       "    </tr>\n",
       "  </thead>\n",
       "  <tbody>\n",
       "    <tr>\n",
       "      <th>0</th>\n",
       "      <td>1.183988</td>\n",
       "      <td>1.832880</td>\n",
       "      <td>1</td>\n",
       "    </tr>\n",
       "    <tr>\n",
       "      <th>1</th>\n",
       "      <td>1.523565</td>\n",
       "      <td>2.293337</td>\n",
       "      <td>1</td>\n",
       "    </tr>\n",
       "    <tr>\n",
       "      <th>2</th>\n",
       "      <td>2.199241</td>\n",
       "      <td>2.342880</td>\n",
       "      <td>1</td>\n",
       "    </tr>\n",
       "    <tr>\n",
       "      <th>3</th>\n",
       "      <td>2.768052</td>\n",
       "      <td>2.179136</td>\n",
       "      <td>1</td>\n",
       "    </tr>\n",
       "    <tr>\n",
       "      <th>4</th>\n",
       "      <td>2.165374</td>\n",
       "      <td>1.888445</td>\n",
       "      <td>1</td>\n",
       "    </tr>\n",
       "  </tbody>\n",
       "</table>\n",
       "</div>"
      ]
     },
     "execution_count": 5,
     "metadata": {},
     "output_type": "execute_result"
    }
   ],
   "execution_count": 5
  },
  {
   "metadata": {
    "ExecuteTime": {
     "end_time": "2025-09-19T14:46:06.204079Z",
     "start_time": "2025-09-19T14:46:06.158285Z"
    }
   },
   "cell_type": "code",
   "source": [
    "plt.figure(figsize=(4,4))\n",
    "cores = ['blue' if c == 0 else 'green' for c in dados['classe']]\n",
    "plt.scatter(dados['x'], dados['y'], c=cores, s=10)\n",
    "\n",
    "#gerando reta de separacao\n",
    "eixox = np.linspace(0,6,100)\n",
    "eixoy = (w0 * bias) - eixox\n",
    "plt.plot(eixox, eixoy, 'r-', linewidth=1)\n",
    "\n",
    "plt.xlim(0,6)\n",
    "plt.ylim(0,6)\n",
    "plt.xlabel('x')\n",
    "plt.ylabel('y')\n",
    "plt.grid(True, alpha=.3)\n",
    "plt.show()"
   ],
   "id": "53eef65f039f6d2c",
   "outputs": [
    {
     "data": {
      "text/plain": [
       "<Figure size 400x400 with 1 Axes>"
      ],
      "image/png": "[encoded data removed]"
     },
     "metadata": {},
     "output_type": "display_data",
     "jetTransient": {
      "display_id": null
     }
    }
   ],
   "execution_count": 6
  }
 ],
 "metadata": {
  "kernelspec": {
   "display_name": "Python 3",
   "language": "python",
   "name": "python3"
  },
  "language_info": {
   "codemirror_mode": {
    "name": "ipython",
    "version": 2
   },
   "file_extension": ".py",
   "mimetype": "text/x-python",
   "name": "python",
   "nbconvert_exporter": "python",
   "pygments_lexer": "ipython2",
   "version": "2.7.6"
  }
 },
 "nbformat": 4,
 "nbformat_minor": 5
}
